{
 "cells": [
  {
   "cell_type": "markdown",
   "metadata": {},
   "source": [
    "### Tic Tac Toe\n",
    "\n",
    "&nbsp;\n",
    "\n",
    "Tictactoe is a very simple game for children. In a conventional setting, two players play on a three by three grid. Whoever manages to have three marks on a column, row or diagonal wins the game."
   ]
  },
  {
   "cell_type": "markdown",
   "metadata": {},
   "source": [
    "#### Minimax/Negamax\n",
    "\n",
    "&nbsp;\n",
    "\n",
    "The objective here is to make the game as difficult as possible. In another word, the idea is to create a gaming AI which is sophisticated enough to beat the human player. Minimax algorithm is perfect for the job. Minimax, as suggested by the name, is to minimize the maximum loss. Inspired by DFS in graph theory, minimax is a recursive traversal algorithm on game tree. For the player round, it maximizes the AI loss for the player to win. For the AI round, it minimizes the AI loss for the AI to win. It recursively computes the optimal strategy for both player and AI to derive the best move for AI to win. You will notice there is another algo in the title called negamax. Negamax is a special case of minimax. It only works on two-player game. Negamax is a more elegant way of writing minimax. Instead of creating minimization for one player and maximization for the other player, negamax adds a negative sign to simplify the minimax based on the fact that max(a,b)=−min(−a,−b).\n",
    "\n",
    "More details on minimax can be found in the link below\n",
    "\n",
    "https://sandipanweb.wordpress.com/2017/03/30/using-minimax-without-pruning-to-implement-the-machine-players-to-play-tictactoe-in-computer/\n",
    "\n",
    "Reference to DFS\n",
    "\n",
    "https://github.com/je-suis-tm/graph-theory/blob/master/BFS%20DFS%20on%20DCG.ipynb\n",
    "\n",
    "Reference to recursion\n",
    "\n",
    "https://github.com/je-suis-tm/recursion-and-dynamic-programming"
   ]
  },
  {
   "cell_type": "code",
   "execution_count": 1,
   "metadata": {},
   "outputs": [],
   "source": [
    "import copy\n",
    "import matplotlib.pyplot as plt"
   ]
  },
  {
   "cell_type": "markdown",
   "metadata": {},
   "source": [
    "##### functions"
   ]
  },
  {
   "cell_type": "code",
   "execution_count": 2,
   "metadata": {},
   "outputs": [],
   "source": [
    "#check if either player has won\n",
    "def check_win(current_board):\n",
    "    \n",
    "    dims=len(current_board)\n",
    "    player_win=0\n",
    "    \n",
    "    #check column and row win\n",
    "    for i in range(dims):\n",
    "        if sum(current_board[i])==1*dims:\n",
    "            player_win=1\n",
    "            return player_win\n",
    "        if sum(current_board[i])==-1*dims:\n",
    "            player_win=-1\n",
    "            return player_win\n",
    "        if sum([current_board[j][i] for j in range(dims)])==1*dims:\n",
    "            player_win=1\n",
    "            return player_win\n",
    "        if sum([current_board[j][i] for j in range(dims)])==-1*dims:\n",
    "            player_win=-1\n",
    "            return player_win\n",
    "    \n",
    "    #check diagonal win\n",
    "    diag1=[current_board[i][i] for i in range(dims)]\n",
    "    diag2=[current_board[i][dims-i-1] for i in range(dims)]    \n",
    "    if sum(diag1)==1*dims:\n",
    "        player_win=1\n",
    "        return player_win\n",
    "    if sum(diag1)==-1*dims:\n",
    "        player_win=-1\n",
    "        return player_win\n",
    "    if sum(diag2)==1*dims:\n",
    "        player_win=1\n",
    "        return player_win\n",
    "    if sum(diag2)==-1*dims:\n",
    "        player_win=-1\n",
    "        return player_win\n",
    "        \n",
    "    return player_win"
   ]
  },
  {
   "cell_type": "code",
   "execution_count": 3,
   "metadata": {},
   "outputs": [],
   "source": [
    "#find valid moves\n",
    "def find_possible_moves(current_board):\n",
    "    possible_moves=[(i,j) for i in range(len(current_board)) for j in range(len(current_board)) if current_board[i][j]==0]\n",
    "    return possible_moves"
   ]
  },
  {
   "cell_type": "code",
   "execution_count": 4,
   "metadata": {},
   "outputs": [],
   "source": [
    "#dfs style traversal on game tree\n",
    "def minimax(current_board,player_placement,step):\n",
    "\n",
    "    #find possible moves for tictactoe\n",
    "    possible_moves=find_possible_moves(current_board)\n",
    "    \n",
    "    #initialize\n",
    "    scores=[] \n",
    "\n",
    "    #if terminal state is reached\n",
    "    #compute score\n",
    "    if check_win(current_board)!=0:\n",
    "        return check_win(current_board)\n",
    "    if len(possible_moves)==0:\n",
    "        return check_win(current_board)\n",
    "\n",
    "    #iterate through all possible moves to compute scores\n",
    "    for move in possible_moves:\n",
    "        next_status=copy.deepcopy(current_board)\n",
    "        next_status[move[0]][move[1]]=player_placement\n",
    "        scores.append(minimax(next_status,-player_placement,step+1))\n",
    "\n",
    "    #assume the machine is player2 which the placement is one\n",
    "    #when the machine wins,player_win equals to one\n",
    "    #its turn is always the maximization\n",
    "    if player_placement<0:\n",
    "        return min(scores)\n",
    "    else:\n",
    "        return max(scores)"
   ]
  },
  {
   "cell_type": "code",
   "execution_count": 5,
   "metadata": {},
   "outputs": [],
   "source": [
    "#pick the best move for machine\n",
    "def find_best_move(game_func,current_board,\n",
    "                   player_placement,**kwargs):\n",
    "    \n",
    "    #find possible moves for tictactoe\n",
    "    possible_moves=find_possible_moves(current_board)\n",
    "    \n",
    "    #initialize\n",
    "    scores=[]\n",
    "    maxval=-float('inf')\n",
    "    best_move=None \n",
    "\n",
    "    #if terminal state is reached\n",
    "    #show result\n",
    "    if len(possible_moves)==0:\n",
    "        return best_move\n",
    "            \n",
    "    #iterate through all possible moves to find the best move    \n",
    "    for move in possible_moves:\n",
    "        next_status=copy.deepcopy(current_board)\n",
    "        next_status[move[0]][move[1]]=player_placement\n",
    "        score=game_func(next_status,-player_placement,1,**kwargs)\n",
    "        if score>maxval:\n",
    "            maxval=score\n",
    "            best_move=move\n",
    "            \n",
    "    return best_move"
   ]
  },
  {
   "cell_type": "code",
   "execution_count": 6,
   "metadata": {},
   "outputs": [],
   "source": [
    "#show the current state\n",
    "def display_tictactoe(current_board):    \n",
    "    \n",
    "    #map number to text with color\n",
    "    display_mapping={0:('?','gold'),-1:('O','cyan'),1:('X','red')}\n",
    "    \n",
    "    ax=plt.figure(figsize=(5,5)).add_subplot(111)\n",
    "    \n",
    "    #plot blocks\n",
    "    for latitude in range(1,len(current_board)):\n",
    "        plt.plot([latitude]*(len(current_board)+1),\n",
    "                [-i for i in range(len(current_board)+1)],c='k')\n",
    "    for longitude in range(1,len(current_board)):\n",
    "        plt.plot(range(len(current_board)+1),\n",
    "                 [-longitude]*(len(current_board)+1),c='k'\n",
    "                )\n",
    "\n",
    "    #show answers\n",
    "    for longitude in range(len(current_board)):\n",
    "        for latitude in range(len(current_board)):\n",
    "            plt.text(longitude+0.5,-latitude-0.5,\n",
    "                     display_mapping[current_board[latitude][longitude]][0],\n",
    "                     color=display_mapping[current_board[latitude][longitude]][1],\n",
    "                     ha='center',va='center',fontsize=40)\n",
    "\n",
    "    plt.axis('off')\n",
    "    plt.show()"
   ]
  },
  {
   "cell_type": "code",
   "execution_count": 7,
   "metadata": {},
   "outputs": [],
   "source": [
    "#show result\n",
    "def check_terminal_state(current_board): \n",
    "    stop=False\n",
    "    result=check_win(current_board)\n",
    "    if result>0:\n",
    "        print('\\n\\nYou lost')\n",
    "        stop=True\n",
    "        return stop\n",
    "    if result<0:\n",
    "        print('\\nYou won')\n",
    "        stop=True\n",
    "        return stop\n",
    "    if len(find_possible_moves(current_board))==0:\n",
    "        stop=True\n",
    "        print('\\nDraw')        \n",
    "    return stop"
   ]
  },
  {
   "cell_type": "markdown",
   "metadata": {},
   "source": [
    "##### play"
   ]
  },
  {
   "cell_type": "code",
   "execution_count": 8,
   "metadata": {},
   "outputs": [],
   "source": [
    "#initialize\n",
    "current_board=[[0,0,0,],\n",
    "           [0,0,0,],\n",
    "           [0,0,0,],]\n",
    "\n",
    "player_placement=-1"
   ]
  },
  {
   "cell_type": "code",
   "execution_count": 9,
   "metadata": {
    "scrolled": true
   },
   "outputs": [
    {
     "name": "stdout",
     "output_type": "stream",
     "text": [
      "\n",
      "~~~~~~~~~~~~~~~~~~~~~~~~\n",
      "~~~~~~~~~~~~~~~~~~~~~~~~\n",
      "round 0\n",
      "the current state is\n",
      "\n",
      "you are o in the board\n",
      "\n"
     ]
    },
    {
     "data": {
      "image/png": "[encoded data removed]",
      "text/plain": [
       "<Figure size 360x360 with 1 Axes>"
      ]
     },
     "metadata": {
      "needs_background": "light"
     },
     "output_type": "display_data"
    },
    {
     "name": "stdout",
     "output_type": "stream",
     "text": [
      "\n",
      "please type next move in zero-index coordinates\n",
      "e.g. top left corner being 0,0\n",
      "e.g. bottom right corner being 2,2\n",
      "\n",
      "your move is 0,0\n",
      "after your move, the current state is\n",
      "\n"
     ]
    },
    {
     "data": {
      "image/png": "[encoded data removed]",
      "text/plain": [
       "<Figure size 360x360 with 1 Axes>"
      ]
     },
     "metadata": {
      "needs_background": "light"
     },
     "output_type": "display_data"
    },
    {
     "name": "stdout",
     "output_type": "stream",
     "text": [
      "\n",
      "your opponent has moved\n",
      "its move is 1,1\n",
      "\n",
      "~~~~~~~~~~~~~~~~~~~~~~~~\n",
      "~~~~~~~~~~~~~~~~~~~~~~~~\n",
      "round 1\n",
      "the current state is\n",
      "\n",
      "you are o in the board\n",
      "\n"
     ]
    },
    {
     "data": {
      "image/png": "[encoded data removed]",
      "text/plain": [
       "<Figure size 360x360 with 1 Axes>"
      ]
     },
     "metadata": {
      "needs_background": "light"
     },
     "output_type": "display_data"
    },
    {
     "name": "stdout",
     "output_type": "stream",
     "text": [
      "\n",
      "please type next move in zero-index coordinates\n",
      "e.g. top left corner being 0,0\n",
      "e.g. bottom right corner being 2,2\n",
      "\n",
      "your move is 0,1\n",
      "after your move, the current state is\n",
      "\n"
     ]
    },
    {
     "data": {
      "image/png": "[encoded data removed]",
      "text/plain": [
       "<Figure size 360x360 with 1 Axes>"
      ]
     },
     "metadata": {
      "needs_background": "light"
     },
     "output_type": "display_data"
    },
    {
     "name": "stdout",
     "output_type": "stream",
     "text": [
      "\n",
      "your opponent has moved\n",
      "its move is 0,2\n",
      "\n",
      "~~~~~~~~~~~~~~~~~~~~~~~~\n",
      "~~~~~~~~~~~~~~~~~~~~~~~~\n",
      "round 2\n",
      "the current state is\n",
      "\n",
      "you are o in the board\n",
      "\n"
     ]
    },
    {
     "data": {
      "image/png": "[encoded data removed]",
      "text/plain": [
       "<Figure size 360x360 with 1 Axes>"
      ]
     },
     "metadata": {
      "needs_background": "light"
     },
     "output_type": "display_data"
    },
    {
     "name": "stdout",
     "output_type": "stream",
     "text": [
      "\n",
      "please type next move in zero-index coordinates\n",
      "e.g. top left corner being 0,0\n",
      "e.g. bottom right corner being 2,2\n",
      "\n",
      "your move is 2,2\n",
      "after your move, the current state is\n",
      "\n"
     ]
    },
    {
     "data": {
      "image/png": "[encoded data removed]",
      "text/plain": [
       "<Figure size 360x360 with 1 Axes>"
      ]
     },
     "metadata": {
      "needs_background": "light"
     },
     "output_type": "display_data"
    },
    {
     "name": "stdout",
     "output_type": "stream",
     "text": [
      "\n",
      "your opponent has moved\n",
      "its move is 1,0\n",
      "\n",
      "~~~~~~~~~~~~~~~~~~~~~~~~\n",
      "~~~~~~~~~~~~~~~~~~~~~~~~\n",
      "round 3\n",
      "the current state is\n",
      "\n",
      "you are o in the board\n",
      "\n"
     ]
    },
    {
     "data": {
      "image/png": "[encoded data removed]",
      "text/plain": [
       "<Figure size 360x360 with 1 Axes>"
      ]
     },
     "metadata": {
      "needs_background": "light"
     },
     "output_type": "display_data"
    },
    {
     "name": "stdout",
     "output_type": "stream",
     "text": [
      "\n",
      "please type next move in zero-index coordinates\n",
      "e.g. top left corner being 0,0\n",
      "e.g. bottom right corner being 2,2\n",
      "\n",
      "your move is 2,1\n",
      "after your move, the current state is\n",
      "\n"
     ]
    },
    {
     "data": {
      "image/png": "[encoded data removed]",
      "text/plain": [
       "<Figure size 360x360 with 1 Axes>"
      ]
     },
     "metadata": {
      "needs_background": "light"
     },
     "output_type": "display_data"
    },
    {
     "name": "stdout",
     "output_type": "stream",
     "text": [
      "\n",
      "your opponent has moved\n",
      "its move is 1,2\n",
      "\n",
      "\n",
      "You lost\n"
     ]
    },
    {
     "data": {
      "image/png": "[encoded data removed]",
      "text/plain": [
       "<Figure size 360x360 with 1 Axes>"
      ]
     },
     "metadata": {
      "needs_background": "light"
     },
     "output_type": "display_data"
    }
   ],
   "source": [
    "stop=False\n",
    "round_counter=0\n",
    "while not stop:\n",
    "    \n",
    "    print('\\n~~~~~~~~~~~~~~~~~~~~~~~~')\n",
    "    print('~~~~~~~~~~~~~~~~~~~~~~~~')\n",
    "    print(f'round {round_counter}')\n",
    "    \n",
    "    #show status quo\n",
    "    print(\"the current state is\\n\")\n",
    "    print(f\"you are {'o' if player_placement==-1 else 'x'} in the board\\n\")\n",
    "    display_tictactoe(current_board)   \n",
    "        \n",
    "    #collect user input\n",
    "    player1_input=input(f\"\"\"\n",
    "please type next move in zero-index coordinates\n",
    "e.g. top left corner being 0,0\n",
    "e.g. bottom right corner being {len(current_board)-1},{len(current_board)-1}\\n\n",
    "your move is \"\"\")\n",
    "\n",
    "    #convert to indices and update the board status\n",
    "    move=tuple(map(int,player1_input.split(',')))\n",
    "    if current_board[move[0]][move[1]]!=0:\n",
    "        print(\"\\ninvalid move, you lost\\n\")\n",
    "        stop=True\n",
    "        break\n",
    "    current_board[move[0]][move[1]]=player_placement\n",
    "    \n",
    "    #show user input\n",
    "    print('after your move, the current state is\\n')\n",
    "    display_tictactoe(current_board)\n",
    "    \n",
    "    #show result\n",
    "    stop=check_terminal_state(current_board)\n",
    "    if stop:\n",
    "        break\n",
    "    \n",
    "    #use minimax to find the best move\n",
    "    move=find_best_move(minimax,current_board,-player_placement)\n",
    "    current_board[move[0]][move[1]]=-player_placement\n",
    "    print(f'\\nyour opponent has moved\\nits move is {move[0]},{move[1]}')\n",
    "    \n",
    "    #show result\n",
    "    stop=check_terminal_state(current_board)\n",
    "    if stop:\n",
    "        display_tictactoe(current_board)\n",
    "        break\n",
    "        \n",
    "    round_counter+=1"
   ]
  },
  {
   "cell_type": "markdown",
   "metadata": {},
   "source": [
    "#### Alpha-Beta Pruning\n",
    "\n",
    "&nbsp;\n",
    "\n",
    "Alpha–beta pruning is an improvement on the minimax algorithm. The pruning intends to optimize the game tree traversal via reducing the branches. Some branches are not worth the time to investigate simply because their predecessors (sibling branches) are the better move with higher payoff. \n",
    "\n",
    "Let's use a good example to illustrate why alpha-beta pruning works. Assume we have a binary tree, the root, denoted as $R$, is a maximization layer. The first level is minimization layer. The left branch of the first level, denoted as $B^l_1$, is a terminal node which scores 5. As for the right branch, let's denote the right branch at the first level as $B^r_1$. We go one level deeper. At the second level, the left branch of $B^r_1$, denoted as $B^l_2$, scores 2. Now we can ignore everything on the right branch of $B^r_1$, denoted as $B^r_2$. Why? Because the first level is a minimization layer. There are two scenarios for $B^r_2$. If $B^r_2$ > $B^l_2$, $B^r_2$ will not matter, since $B^r_1 = min (B^r_2 , B^l_2)$ which is equivalent to $B^r_1 = B^l_2$. If $B^r_2$ < $B^l_2$, we can derive $B^r_1 = B^r_2$. However, the root level is a maximization layer, indicating $R = max(B^r_1 , B^l_1)$. Given $B^l_1=5$ and $B^r_2$ < $B^l_2 = 2$, the root $R$ inevitably will pick the move that leads to the left branch $B^l_1$ because $min (B^r_2 , B^l_2)$ will never be larger than 2 regardless of the value of $B^r_2$. Hence, there is no point to understand the actual payoff from the branch $B^r_2$.\n",
    "\n",
    "A good material on alpha-beta pruning can be found in the link below\n",
    "\n",
    "https://www.mygreatlearning.com/blog/alpha-beta-pruning-in-ai/"
   ]
  },
  {
   "cell_type": "markdown",
   "metadata": {},
   "source": [
    "##### functions"
   ]
  },
  {
   "cell_type": "code",
   "execution_count": 10,
   "metadata": {},
   "outputs": [],
   "source": [
    "#dfs style traversal on game tree\n",
    "def alpha_beta_pruning(current_board,player_placement,step):\n",
    "\n",
    "    #find possible moves for tictactoe\n",
    "    possible_moves=find_possible_moves(current_board)\n",
    "    \n",
    "    #initialize\n",
    "    scores=[] \n",
    "\n",
    "    #if terminal state is reached\n",
    "    #compute score\n",
    "    if check_win(current_board)!=0:\n",
    "        return check_win(current_board)\n",
    "    if len(possible_moves)==0:\n",
    "        return check_win(current_board)\n",
    "\n",
    "    #iterate through all possible moves to compute scores\n",
    "    for move in possible_moves:\n",
    "        next_status=copy.deepcopy(current_board)\n",
    "        next_status[move[0]][move[1]]=player_placement\n",
    "        \n",
    "        #alpha beta pruning for tictactoe is a lot easier\n",
    "        #since the score will only be -1,0 or 1\n",
    "        #whenever -1 appears in the minimization layer\n",
    "        #or 1 appears in the maximization layer\n",
    "        #we can prune off rest of the branches\n",
    "        current_score=minimax(next_status,-player_placement,step+1)\n",
    "        if player_placement<0 and current_score==-1:\n",
    "            return -1\n",
    "        if player_placement>0 and current_score==1:\n",
    "            return 1\n",
    "        scores.append(current_score)\n",
    "\n",
    "    #assume the machine is player2 which the placement is one\n",
    "    #when the machine wins,player_win equals to one\n",
    "    #its turn is always the maximization\n",
    "    if player_placement<0:\n",
    "        return min(scores)\n",
    "    else:\n",
    "        return max(scores)"
   ]
  },
  {
   "cell_type": "markdown",
   "metadata": {},
   "source": [
    "##### compare"
   ]
  },
  {
   "cell_type": "code",
   "execution_count": 11,
   "metadata": {},
   "outputs": [],
   "source": [
    "#initialize\n",
    "current_board=[[0,0,0,],\n",
    "           [0,-1,0,],\n",
    "           [0,0,0,],]\n",
    "\n",
    "player_placement=-1"
   ]
  },
  {
   "cell_type": "code",
   "execution_count": 12,
   "metadata": {},
   "outputs": [
    {
     "name": "stdout",
     "output_type": "stream",
     "text": [
      "2.07 s ± 189 ms per loop (mean ± std. dev. of 7 runs, 1 loop each)\n"
     ]
    }
   ],
   "source": [
    "%timeit find_best_move(minimax,current_board,-player_placement)"
   ]
  },
  {
   "cell_type": "code",
   "execution_count": 13,
   "metadata": {},
   "outputs": [
    {
     "name": "stdout",
     "output_type": "stream",
     "text": [
      "1.14 s ± 90.2 ms per loop (mean ± std. dev. of 7 runs, 1 loop each)\n"
     ]
    }
   ],
   "source": [
    "#alpha beta pruning is significantly faster\n",
    "#it only takes half of the time that minimax requires\n",
    "%timeit find_best_move(alpha_beta_pruning,current_board,-player_placement)"
   ]
  },
  {
   "cell_type": "markdown",
   "metadata": {},
   "source": [
    "#### Depth Limited Search\n",
    "\n",
    "&nbsp;\n",
    "\n",
    "Depth limited search is an optimized minimax, a tradeoff between accuracy and efficiency. An empty 3 by 3 board has 9! scenarios which is a bit computational expensive. To reduce the time complexity, the algorithm stops at the preset depth instead of a full game tree traversal. When a node is not a terminal node, DLS leverages evaluation function to estimate the potential outcome of the game. The choice of evaluation function is crucial to DLS. Ideally, the evaluation function should have low time complexity compared to the minimax and reflect a relatively accurate estimation of the potential outcome. A good choice of evaluation function of tictactoe would be the calculation of how many slots are occupied by the opponent in each row/column/diagonal."
   ]
  },
  {
   "cell_type": "markdown",
   "metadata": {},
   "source": [
    "##### functions"
   ]
  },
  {
   "cell_type": "code",
   "execution_count": 14,
   "metadata": {},
   "outputs": [],
   "source": [
    "#an evaluation function to replace game tree search to the terminal\n",
    "def tictactoe_score(current_board,player_placement):\n",
    "    \n",
    "    dims=len(current_board)\n",
    "    score=0\n",
    "    \n",
    "    #the scoring system is simple\n",
    "    #if every slot in the row/col/diag is filled by the player\n",
    "    #thats -100 and the opponent wins, vice versa\n",
    "    #if ai and the player have occupied at least one slot in the row/col/diag\n",
    "    #zero point as nobody can win from this row/col/diag\n",
    "    #if only ai or the player have occupied some slots in the row/col/diag\n",
    "    #calculate the occupied slots\n",
    "    #a special case would be player merely needs one more slot to win\n",
    "    #if the next round is player s round\n",
    "    #player wins, vice versa\n",
    "    for i in range(dims):\n",
    "        \n",
    "        #compute row score\n",
    "        row=current_board[i]\n",
    "        if sum(row)==1*dims:\n",
    "            score=100\n",
    "            return score\n",
    "        elif sum(row)==-1*dims:\n",
    "            score=-100\n",
    "            return score\n",
    "        elif 1 in row and -1 in row:\n",
    "            score+=0\n",
    "        elif sum(row)==1*(dims-1) and player_placement==1:\n",
    "            score=100\n",
    "            return score\n",
    "        elif sum(row)==-1*(dims-1) and player_placement==-1:\n",
    "            score=-100\n",
    "            return score\n",
    "        else:            \n",
    "            score+=sum(row)\n",
    "        \n",
    "        #compute col score\n",
    "        col=[current_board[j][i] for j in range(dims)]\n",
    "        if sum(col)==1*dims:\n",
    "            score=100\n",
    "            return score\n",
    "        elif sum(col)==-1*dims:\n",
    "            score=-100\n",
    "            return score\n",
    "        elif 1 in col and -1 in col:\n",
    "            score+=0\n",
    "        elif sum(col)==1*(dims-1) and player_placement==1:\n",
    "            score=100\n",
    "            return score\n",
    "        elif sum(col)==-1*(dims-1) and player_placement==-1:\n",
    "            score=-100\n",
    "            return score\n",
    "        else:\n",
    "            score+=sum(col)\n",
    "    \n",
    "    #compute diag score\n",
    "    diag1=[current_board[i][i] for i in range(dims)]\n",
    "    diag2=[current_board[i][dims-i-1] for i in range(dims)]    \n",
    "    if sum(diag1)==1*dims:\n",
    "        score=100\n",
    "        return score\n",
    "    elif sum(diag1)==-1*dims:\n",
    "        score=-100\n",
    "        return score\n",
    "    elif 1 in diag1 and -1 in diag1:\n",
    "        score+=0\n",
    "    elif sum(diag1)==1*(dims-1) and player_placement==1:\n",
    "        score=100\n",
    "        return score\n",
    "    elif sum(diag1)==-1*(dims-1) and player_placement==-1:\n",
    "        score=-100\n",
    "        return score\n",
    "    else:\n",
    "        score+=sum(diag1)            \n",
    "    if sum(diag2)==1*dims:\n",
    "        score=100\n",
    "        return score\n",
    "    elif sum(diag2)==-1*dims:\n",
    "        score=-100\n",
    "        return score\n",
    "    elif 1 in diag2 and -1 in diag2:\n",
    "        score+=0\n",
    "    elif sum(diag2)==1*(dims-1) and player_placement==1:\n",
    "        score=100\n",
    "        return score\n",
    "    elif sum(diag2)==-1*(dims-1) and player_placement==-1:\n",
    "        score=-100\n",
    "        return score\n",
    "    else:\n",
    "        score+=sum(diag2)       \n",
    "    return score"
   ]
  },
  {
   "cell_type": "code",
   "execution_count": 15,
   "metadata": {},
   "outputs": [],
   "source": [
    "#an optimized minimax to improve time complexity\n",
    "def depth_limited_search(current_board,player_placement,\n",
    "                         current_step,eval_func=tictactoe_score,max_step=3):\n",
    "    \n",
    "    #limit the depth\n",
    "    if current_step>max_step:\n",
    "        \n",
    "        #it is always better to win asap\n",
    "        #assign depth as weight to score\n",
    "        #for negative score, use multiplication to achieve smaller value\n",
    "        final_score=eval_func(current_board,-player_placement)\n",
    "        if final_score>0:\n",
    "            return final_score/current_step\n",
    "        else:\n",
    "            return final_score*current_step\n",
    "\n",
    "    #find possible moves for tictactoe\n",
    "    possible_moves=find_possible_moves(current_board)\n",
    "    \n",
    "    #initialize\n",
    "    scores=[] \n",
    "\n",
    "    #if terminal state is reached\n",
    "    #compute score\n",
    "    if check_win(current_board)!=0:\n",
    "        final_score=eval_func(current_board,-player_placement)\n",
    "        if final_score>0:\n",
    "            return final_score/current_step\n",
    "        else:\n",
    "            return final_score*current_step\n",
    "    if len(possible_moves)==0:\n",
    "        final_score=eval_func(current_board,-player_placement)\n",
    "        if final_score>0:\n",
    "            return final_score/current_step\n",
    "        else:\n",
    "            return final_score*current_step\n",
    "\n",
    "    #iterate through all possible moves to compute scores\n",
    "    for move in possible_moves:\n",
    "        next_status=copy.deepcopy(current_board)\n",
    "        next_status[move[0]][move[1]]=player_placement\n",
    "        scores.append(depth_limited_search(\n",
    "            next_status,-player_placement,current_step+1))\n",
    "\n",
    "    #assume the machine is player2 which the placement is one\n",
    "    #when the machine wins,player_win equals to one\n",
    "    #its turn is always the maximization\n",
    "    if player_placement<0:\n",
    "        return min(scores)\n",
    "    else:\n",
    "        return max(scores)"
   ]
  },
  {
   "cell_type": "markdown",
   "metadata": {},
   "source": [
    "##### compare"
   ]
  },
  {
   "cell_type": "code",
   "execution_count": 16,
   "metadata": {},
   "outputs": [],
   "source": [
    "#initialize\n",
    "current_board=[[1,0,0,],\n",
    "           [0,0,0,],\n",
    "           [0,0,-1,],]\n",
    "\n",
    "player_placement=-1"
   ]
  },
  {
   "cell_type": "code",
   "execution_count": 17,
   "metadata": {},
   "outputs": [
    {
     "name": "stdout",
     "output_type": "stream",
     "text": [
      "248 ms ± 16.3 ms per loop (mean ± std. dev. of 7 runs, 1 loop each)\n"
     ]
    }
   ],
   "source": [
    "%timeit find_best_move(alpha_beta_pruning,current_board,-player_placement)"
   ]
  },
  {
   "cell_type": "code",
   "execution_count": 18,
   "metadata": {},
   "outputs": [
    {
     "name": "stdout",
     "output_type": "stream",
     "text": [
      "29.6 ms ± 2.21 ms per loop (mean ± std. dev. of 7 runs, 10 loops each)\n"
     ]
    }
   ],
   "source": [
    "#dls is significantly faster as we limit the tree depth\n",
    "%timeit find_best_move(depth_limited_search,current_board,-player_placement,)"
   ]
  },
  {
   "cell_type": "code",
   "execution_count": null,
   "metadata": {},
   "outputs": [],
   "source": []
  }
 ],
 "metadata": {
  "kernelspec": {
   "display_name": "Python 3",
   "language": "python",
   "name": "python3"
  },
  "language_info": {
   "codemirror_mode": {
    "name": "ipython",
    "version": 3
   },
   "file_extension": ".py",
   "mimetype": "text/x-python",
   "name": "python",
   "nbconvert_exporter": "python",
   "pygments_lexer": "ipython3",
   "version": "3.6.8"
  },
  "toc": {
   "base_numbering": 1,
   "nav_menu": {},
   "number_sections": false,
   "sideBar": true,
   "skip_h1_title": false,
   "title_cell": "Table of Contents",
   "title_sidebar": "Contents",
   "toc_cell": false,
   "toc_position": {},
   "toc_section_display": true,
   "toc_window_display": true
  }
 },
 "nbformat": 4,
 "nbformat_minor": 2
}
