{
 "cells": [
  {
   "cell_type": "markdown",
   "metadata": {},
   "source": [
    "### Integer Linear Programming for Sudoku\n",
    "\n",
    "&nbsp;\n",
    "\n",
    "Sudoku is a combinatorial number-placement puzzle. Despite its Japanese name, the game was actually invented by an American and later gained popularity in Japan. There are many ways for computer algorithms to solve Sudoku. Here we use Binary Integer Linear Programming to solve the puzzle via convex optimization. In this particular optimization problem, we have no objective function to maximize or minimize. We merely need to satisfy the constraints below.\n",
    "\n",
    "1. Only one element in each column\n",
    "2. Only one element in each row\n",
    "3. Only one element in each sub matrix\n",
    "4. Each cell in the matrix should be filled\n",
    "5. Given elements in the cells are set on\n",
    "\n",
    "The trick is to convert an N by N Sudoku matrix into a flattened array `x` of length N^3. Each element inside the array represents the existence of number N in the cell (N,N). To use `cvxopt` to solve the problem, we just need to create constraint matrix `A` to put everything mentioned above in the form of `Ax=b`.\n",
    "\n",
    "More details can be found in the original paper\n",
    "\n",
    "https://pdfs.semanticscholar.org/1ca8/21d0145e3f7b02e37e283042b4e601bf388d.pdf"
   ]
  },
  {
   "cell_type": "code",
   "execution_count": 1,
   "metadata": {},
   "outputs": [],
   "source": [
    "import numpy as np\n",
    "import cvxopt.glpk"
   ]
  },
  {
   "cell_type": "markdown",
   "metadata": {},
   "source": [
    "### functions"
   ]
  },
  {
   "cell_type": "code",
   "execution_count": 2,
   "metadata": {},
   "outputs": [],
   "source": [
    "#the constraint of given elements\n",
    "#set given elements in the matrix as one\n",
    "def get_given_constraint(puzzle,num):\n",
    "\n",
    "    #initialize\n",
    "    given_constraint=np.zeros((len(puzzle[puzzle!=0]),num**3))\n",
    "\n",
    "    #flatten the puzzle and find out its index inside the array\n",
    "    indices=[ind+(val-1)*(num**2) for ind,val in enumerate(puzzle.ravel()) if val!=0]\n",
    "\n",
    "    #the constraint of given elements\n",
    "    for ind,val in enumerate(indices):\n",
    "        given_constraint[ind,val]=1\n",
    "        \n",
    "    return given_constraint"
   ]
  },
  {
   "cell_type": "code",
   "execution_count": 3,
   "metadata": {},
   "outputs": [],
   "source": [
    "#only one element in each column\n",
    "#the summation of each column for each element should be one\n",
    "def get_col_constraint(num):\n",
    "\n",
    "    #initialize\n",
    "    col_constraint=np.zeros((num**2,num**3))\n",
    "\n",
    "    #only one element in each column\n",
    "    for element_ind in range(num):\n",
    "        start=element_ind*(num**2)\n",
    "        end=(element_ind+1)*(num**2)\n",
    "        for col_ind in range(num):\n",
    "            for cell_ind in range(start+col_ind,end,num):\n",
    "                col_constraint[element_ind*num+col_ind][cell_ind]=1\n",
    "                \n",
    "    return col_constraint"
   ]
  },
  {
   "cell_type": "code",
   "execution_count": 4,
   "metadata": {},
   "outputs": [],
   "source": [
    "#only one element in each row\n",
    "#the summation of each row for each element should be one\n",
    "def get_row_constraint(num):\n",
    "\n",
    "    #initialize\n",
    "    row_constraint=np.zeros((num**2,num**3))\n",
    "\n",
    "    #only one element in each row\n",
    "    for itr in range(num**2):\n",
    "        for cell_ind in range(num*itr,num*(itr+1)):\n",
    "                row_constraint[itr][cell_ind]=1\n",
    "                \n",
    "    return row_constraint"
   ]
  },
  {
   "cell_type": "code",
   "execution_count": 5,
   "metadata": {},
   "outputs": [],
   "source": [
    "#only one element in each submatrix\n",
    "#the summation of each submatrix for each element should be one\n",
    "#this function gets overly complicated by five layers of loops\n",
    "#the actual execution should be really fast\n",
    "#as some of the loops merely create the submatrix coordinates\n",
    "def get_sub_constraint(num):\n",
    "    \n",
    "    subnum=int(num**0.5)\n",
    "\n",
    "    #initialize\n",
    "    sub_constraint=np.zeros((num**2,num**3))\n",
    "\n",
    "    #only one element in each submatrix\n",
    "    for element_ind in range(num):\n",
    "        start=element_ind*(num**2)\n",
    "        end=(element_ind+1)*(num**2)       \n",
    "        for col_ind in range(0,num,subnum):\n",
    "            for row_ind in range(0,num,subnum):\n",
    "                h_samples=[i for i in range(col_ind,col_ind+subnum)]\n",
    "                v_samples=[i for i in range(row_ind,row_ind+subnum)]\n",
    "                for v_index,v_pointer in enumerate(v_samples):\n",
    "                    for h_index,h_pointer in enumerate(h_samples):\n",
    "                        cell_ind=start+v_pointer*num+h_pointer\n",
    "                        sub_constraint[element_ind*num+int(col_ind/subnum)+row_ind][cell_ind]=1\n",
    "                        \n",
    "    return sub_constraint"
   ]
  },
  {
   "cell_type": "code",
   "execution_count": 6,
   "metadata": {},
   "outputs": [],
   "source": [
    "#each cell must be filled\n",
    "#the summation of each cell for different elements should be one\n",
    "def get_must_constraint(num):\n",
    "\n",
    "    #initialize\n",
    "    must_constraint=np.zeros((num**2,num**3))\n",
    "\n",
    "    #each cell must be filled\n",
    "    for must_ind in range(num**2):\n",
    "        must_constraint[must_ind][must_ind::num**2]=1\n",
    "        \n",
    "    return must_constraint"
   ]
  },
  {
   "cell_type": "code",
   "execution_count": 7,
   "metadata": {},
   "outputs": [],
   "source": [
    "#use cvxopt integer linear programming\n",
    "#the answer may not be unique\n",
    "#depends on sudoku itself\n",
    "def solve(constraints):    \n",
    "    \n",
    "    #equality constraints\n",
    "    #the only thing that matters\n",
    "    equality_coeff=cvxopt.matrix(constraints)\n",
    "    equality_value=cvxopt.matrix(np.ones(constraints.shape[0]))\n",
    "    \n",
    "    #linear coefficient\n",
    "    #no objective function to maximize\n",
    "    linear_coeff=cvxopt.matrix(np.zeros(constraints.shape[1]))\n",
    "    \n",
    "    #inequality constraints\n",
    "    inequality_coeff=cvxopt.matrix(np.zeros(constraints.shape))\n",
    "    inequality_value=cvxopt.matrix(np.zeros(constraints.shape[0]))    \n",
    "    \n",
    "    #binary constraints\n",
    "    #the constraint should cover the whole length of vector x\n",
    "    #the default is (0,1) and u cannot alter it\n",
    "    binary_set=set(range(constraints.shape[1]))\n",
    "    \n",
    "    #result\n",
    "    status,solution=cvxopt.glpk.ilp(\n",
    "        c=linear_coeff,G=inequality_coeff,h=inequality_value,\n",
    "        A=equality_coeff,b=equality_value,\n",
    "        B=binary_set)\n",
    "    \n",
    "    return status,solution"
   ]
  },
  {
   "cell_type": "code",
   "execution_count": 8,
   "metadata": {},
   "outputs": [],
   "source": [
    "#create output\n",
    "#convert flatten matrix to a regular n by n matrix\n",
    "def extract_solution(solution,num):\n",
    "\n",
    "    #initialize\n",
    "    sudoku=np.zeros((num,num))\n",
    "\n",
    "    #revert flatten matrix to real sudoku\n",
    "    for i in range(num):\n",
    "        submatrix=np.array(solution[i*(num**2):(i+1)*(num**2)]).reshape(num,num)\n",
    "        for j in np.column_stack(np.where(submatrix==1)):\n",
    "            sudoku[j[0],j[1]]=i+1\n",
    "            \n",
    "    return sudoku"
   ]
  },
  {
   "cell_type": "code",
   "execution_count": 9,
   "metadata": {},
   "outputs": [],
   "source": [
    "#main function\n",
    "#all combined into one\n",
    "def sudoku_ans(puzzle):\n",
    "\n",
    "    #get the level of sudoku\n",
    "    num=puzzle.shape[0]\n",
    "    \n",
    "    #create constraints\n",
    "    col_constraint=get_col_constraint(num)\n",
    "    row_constraint=get_row_constraint(num)\n",
    "    sub_constraint=get_sub_constraint(num)\n",
    "    must_constraint=get_must_constraint(num)\n",
    "    given_constraint=get_given_constraint(puzzle,num)\n",
    "\n",
    "    #aggregate\n",
    "    constraints=np.vstack((col_constraint,row_constraint,\n",
    "               sub_constraint,must_constraint,\n",
    "               given_constraint))\n",
    "\n",
    "    #solve via ilp and create output\n",
    "    status,solution=solve(constraints)\n",
    "    sudoku=extract_solution(solution,num)\n",
    "    \n",
    "    return sudoku"
   ]
  },
  {
   "cell_type": "markdown",
   "metadata": {},
   "source": [
    "### run"
   ]
  },
  {
   "cell_type": "code",
   "execution_count": 10,
   "metadata": {},
   "outputs": [],
   "source": [
    "easy=np.array([\n",
    "[0,0,2, 0],\n",
    "[0,0,0, 0],\n",
    "[0,1,0, 0],\n",
    "[4,0,0, 2]])"
   ]
  },
  {
   "cell_type": "code",
   "execution_count": 11,
   "metadata": {},
   "outputs": [
    {
     "data": {
      "text/plain": [
       "array([[3., 4., 2., 1.],\n",
       "       [1., 2., 4., 3.],\n",
       "       [2., 1., 3., 4.],\n",
       "       [4., 3., 1., 2.]])"
      ]
     },
     "execution_count": 11,
     "metadata": {},
     "output_type": "execute_result"
    }
   ],
   "source": [
    "sudoku_ans(easy)"
   ]
  },
  {
   "cell_type": "code",
   "execution_count": 12,
   "metadata": {},
   "outputs": [],
   "source": [
    "medium=np.array([\n",
    "[0,0,7, 8,0,5, 2,0,0],\n",
    "[8,0,0, 6,0,4, 0,0,5],\n",
    "[0,1,0, 0,9,0, 0,8,0],\n",
    "[4,0,0, 2,8,9, 0,0,7],\n",
    "[0,0,0, 0,0,0, 0,0,0],\n",
    "[5,0,0, 7,6,1, 0,0,2],\n",
    "[0,7,0, 0,3,0, 0,6,0],\n",
    "[3,0,0, 1,0,6, 0,0,4],\n",
    "[0,0,2, 5,0,8, 1,0,0]])"
   ]
  },
  {
   "cell_type": "code",
   "execution_count": 13,
   "metadata": {},
   "outputs": [
    {
     "data": {
      "text/plain": [
       "array([[6., 4., 7., 8., 1., 5., 2., 3., 9.],\n",
       "       [8., 9., 3., 6., 2., 4., 7., 1., 5.],\n",
       "       [2., 1., 5., 3., 9., 7., 4., 8., 6.],\n",
       "       [4., 3., 1., 2., 8., 9., 6., 5., 7.],\n",
       "       [7., 2., 6., 4., 5., 3., 8., 9., 1.],\n",
       "       [5., 8., 9., 7., 6., 1., 3., 4., 2.],\n",
       "       [1., 7., 4., 9., 3., 2., 5., 6., 8.],\n",
       "       [3., 5., 8., 1., 7., 6., 9., 2., 4.],\n",
       "       [9., 6., 2., 5., 4., 8., 1., 7., 3.]])"
      ]
     },
     "execution_count": 13,
     "metadata": {},
     "output_type": "execute_result"
    }
   ],
   "source": [
    "sudoku_ans(medium)"
   ]
  },
  {
   "cell_type": "code",
   "execution_count": 14,
   "metadata": {},
   "outputs": [],
   "source": [
    "hard=np.array([\n",
    "[7,0,0, 0,0,0, 4,0,0],\n",
    "[0,2,0, 0,7,0, 0,8,0],\n",
    "[0,0,3, 0,0,8, 0,0,9],\n",
    "[0,0,0, 5,0,0, 3,0,0],\n",
    "[0,6,0, 0,2,0, 0,9,0],\n",
    "[0,0,1, 0,0,7, 0,0,6],\n",
    "[0,0,0, 3,0,0, 9,0,0],\n",
    "[0,3,0, 0,4,0, 0,6,0],\n",
    "[0,0,9, 0,0,1, 0,0,5]])"
   ]
  },
  {
   "cell_type": "code",
   "execution_count": 15,
   "metadata": {},
   "outputs": [
    {
     "data": {
      "text/plain": [
       "array([[7., 9., 8., 6., 3., 5., 4., 2., 1.],\n",
       "       [1., 2., 6., 9., 7., 4., 5., 8., 3.],\n",
       "       [4., 5., 3., 2., 1., 8., 6., 7., 9.],\n",
       "       [9., 7., 2., 5., 8., 6., 3., 1., 4.],\n",
       "       [5., 6., 4., 1., 2., 3., 8., 9., 7.],\n",
       "       [3., 8., 1., 4., 9., 7., 2., 5., 6.],\n",
       "       [6., 1., 7., 3., 5., 2., 9., 4., 8.],\n",
       "       [8., 3., 5., 7., 4., 9., 1., 6., 2.],\n",
       "       [2., 4., 9., 8., 6., 1., 7., 3., 5.]])"
      ]
     },
     "execution_count": 15,
     "metadata": {},
     "output_type": "execute_result"
    }
   ],
   "source": [
    "sudoku_ans(hard)"
   ]
  },
  {
   "cell_type": "code",
   "execution_count": null,
   "metadata": {},
   "outputs": [],
   "source": []
  }
 ],
 "metadata": {
  "kernelspec": {
   "display_name": "Python 3",
   "language": "python",
   "name": "python3"
  },
  "language_info": {
   "codemirror_mode": {
    "name": "ipython",
    "version": 3
   },
   "file_extension": ".py",
   "mimetype": "text/x-python",
   "name": "python",
   "nbconvert_exporter": "python",
   "pygments_lexer": "ipython3",
   "version": "3.6.5"
  },
  "latex_envs": {
   "LaTeX_envs_menu_present": true,
   "autoclose": false,
   "autocomplete": true,
   "bibliofile": "biblio.bib",
   "cite_by": "apalike",
   "current_citInitial": 1,
   "eqLabelWithNumbers": true,
   "eqNumInitial": 1,
   "hotkeys": {
    "equation": "Ctrl-E",
    "itemize": "Ctrl-I"
   },
   "labels_anchors": false,
   "latex_user_defs": false,
   "report_style_numbering": false,
   "user_envs_cfg": false
  },
  "toc": {
   "base_numbering": 1,
   "nav_menu": {},
   "number_sections": true,
   "sideBar": true,
   "skip_h1_title": false,
   "title_cell": "Table of Contents",
   "title_sidebar": "Contents",
   "toc_cell": false,
   "toc_position": {},
   "toc_section_display": true,
   "toc_window_display": false
  }
 },
 "nbformat": 4,
 "nbformat_minor": 2
}
